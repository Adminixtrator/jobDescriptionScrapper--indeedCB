{
  "nbformat": 4,
  "nbformat_minor": 0,
  "metadata": {
    "colab": {
      "name": "jobDescriptionScrapper--indeedCB.ipynb",
      "provenance": []
    },
    "kernelspec": {
      "name": "python3",
      "display_name": "Python 3"
    },
    "language_info": {
      "name": "python"
    }
  },
  "cells": [
    {
      "cell_type": "markdown",
      "metadata": {
        "id": "Rl4NCRZxJqci"
      },
      "source": [
        "## Not exactly ***Open Source*** yunno, so no comments ✌️😌✌️"
      ]
    },
    {
      "cell_type": "code",
      "metadata": {
        "id": "B388bjtcIOQ8"
      },
      "source": [
        "import requests\n",
        "from bs4 import BeautifulSoup\n",
        "import time\n",
        "import urllib"
      ],
      "execution_count": 1,
      "outputs": []
    },
    {
      "cell_type": "code",
      "metadata": {
        "id": "lHtIl7xLLeLn"
      },
      "source": [
        "indeedURL = 'https://www.indeed.com/viewjob?jk=8098ca27c3755c84&tk=1f2obu3hpt48n800&from=serp&vjs=3'\n",
        "cbURL = 'https://www.careerbuilder.com/job/J3T5DZ79G3K8Z5BK0X3'"
      ],
      "execution_count": 2,
      "outputs": []
    },
    {
      "cell_type": "markdown",
      "metadata": {
        "id": "zWNeDKndM6Tz"
      },
      "source": [
        "### Scrape Indeed JD"
      ]
    },
    {
      "cell_type": "code",
      "metadata": {
        "id": "Ta7fdhlNMJVN"
      },
      "source": [
        "indeedJDPage = requests.get(indeedURL)\n",
        "indeedJDSoup = BeautifulSoup(indeedJDPage.text, \"html.parser\")"
      ],
      "execution_count": 3,
      "outputs": []
    },
    {
      "cell_type": "code",
      "metadata": {
        "colab": {
          "base_uri": "https://localhost:8080/",
          "height": 35
        },
        "id": "0R6HnizkNedv",
        "outputId": "baa78674-6432-4346-8c95-1a7991162ddc"
      },
      "source": [
        "def extract_job_title_from_result(soup):\n",
        "  jobTitles = []\n",
        "  for div in soup.find_all(name=\"div\", attrs={\"id\": \"viewJobSSRRoot\"}):\n",
        "    for a in div.find_all(name=\"h1\"):\n",
        "      jobTitles.append(a.text.strip())\n",
        "  return jobTitles[0]\n",
        "\n",
        "extract_job_title_from_result(indeedJDSoup)"
      ],
      "execution_count": 4,
      "outputs": [
        {
          "output_type": "execute_result",
          "data": {
            "application/vnd.google.colaboratory.intrinsic+json": {
              "type": "string"
            },
            "text/plain": [
              "'Data Scientist'"
            ]
          },
          "metadata": {
            "tags": []
          },
          "execution_count": 4
        }
      ]
    },
    {
      "cell_type": "code",
      "metadata": {
        "colab": {
          "base_uri": "https://localhost:8080/",
          "height": 35
        },
        "id": "q_e9NCJyWxPE",
        "outputId": "0edb1fcc-1133-48ca-c392-24a22c5f2c8e"
      },
      "source": [
        "def extract_job_location_from_result(soup):\n",
        "  jobLocation = []\n",
        "  for div in soup.find_all(name=\"div\", attrs={\"class\": \"jobsearch-DesktopStickyContainer-subtitle\"}):\n",
        "    for a in div.find_all(name=\"div\"):\n",
        "      jobLocation.append(a.text.strip())\n",
        "  return jobLocation[1]\n",
        "\n",
        "extract_job_location_from_result(indeedJDSoup)"
      ],
      "execution_count": 5,
      "outputs": [
        {
          "output_type": "execute_result",
          "data": {
            "application/vnd.google.colaboratory.intrinsic+json": {
              "type": "string"
            },
            "text/plain": [
              "'Affinity Solutions'"
            ]
          },
          "metadata": {
            "tags": []
          },
          "execution_count": 5
        }
      ]
    },
    {
      "cell_type": "code",
      "metadata": {
        "colab": {
          "base_uri": "https://localhost:8080/",
          "height": 52
        },
        "id": "8zhObWL8QBSC",
        "outputId": "bb2b90f3-4746-4887-831a-7a9d105439f4"
      },
      "source": [
        "def extract_company_job_posting_from_result(soup):\n",
        "  companyJobPosting = []\n",
        "  for div in soup.find_all(name=\"div\", attrs={\"id\": \"applyButtonLinkContainer\"}):\n",
        "    for a in div.find_all(name=\"a\", attrs={\"role\": \"link\"}):\n",
        "      companyJobPosting.append(a['href'])\n",
        "  return companyJobPosting[0]\n",
        "\n",
        "extract_company_job_posting_from_result(indeedJDSoup)"
      ],
      "execution_count": 6,
      "outputs": [
        {
          "output_type": "execute_result",
          "data": {
            "application/vnd.google.colaboratory.intrinsic+json": {
              "type": "string"
            },
            "text/plain": [
              "'https://www.indeed.com/rc/clk?jk=8098ca27c3755c84&from=vj&pos=bottom&mvj=0&sjdu=YmZE5d5THV8u75cuc0H6Y26AwfY51UOGmh3Z9h4OvXio071UADcZWS6W06iFqKGfIv02HSGSZoWequxOEmCHqw&astse=74825780b0c95cf3&assa=288&vjfrom=serp'"
            ]
          },
          "metadata": {
            "tags": []
          },
          "execution_count": 6
        }
      ]
    },
    {
      "cell_type": "code",
      "metadata": {
        "colab": {
          "base_uri": "https://localhost:8080/",
          "height": 35
        },
        "id": "C3SL9zvXVhWi",
        "outputId": "7d55dd37-4e44-4d25-f848-b894273e14db"
      },
      "source": [
        "def extract_job_policy_from_result(soup):\n",
        "  jobPolicy = []\n",
        "  for div in soup.find_all(name=\"div\", attrs={\"class\": \"jobsearch-JobDescriptionSection-sectionItem\"}):\n",
        "    for a in div.find_all(name=\"div\"):\n",
        "      jobPolicy.append(a.text.strip())\n",
        "  try:\n",
        "    return jobPolicy[1]\n",
        "  except:\n",
        "    return ''\n",
        "\n",
        "extract_job_policy_from_result(indeedJDSoup)"
      ],
      "execution_count": 7,
      "outputs": [
        {
          "output_type": "execute_result",
          "data": {
            "application/vnd.google.colaboratory.intrinsic+json": {
              "type": "string"
            },
            "text/plain": [
              "''"
            ]
          },
          "metadata": {
            "tags": []
          },
          "execution_count": 7
        }
      ]
    },
    {
      "cell_type": "code",
      "metadata": {
        "colab": {
          "base_uri": "https://localhost:8080/"
        },
        "id": "Wgb49YMpWkty",
        "outputId": "c5b70d26-dd3e-4719-9804-0d82c46d8cfb"
      },
      "source": [
        "def extract_full_jd_from_result(soup):\n",
        "  fullJD = []\n",
        "  fullJDString = \"\"\n",
        "  for div in soup.find_all(name=\"div\", attrs={\"id\": \"jobDescriptionText\"}):\n",
        "    for lines in div.find_all(name=\"div\"):\n",
        "      fullJD.append(lines.text.strip())\n",
        "  cache = list(dict.fromkeys(fullJD))\n",
        "  for i in cache:\n",
        "    if i != \"\" and fullJDString.find(i) < 0:\n",
        "      fullJDString = fullJDString + \"\\n\\n\" + i\n",
        "  return fullJDString\n",
        "\n",
        "print(extract_full_jd_from_result(indeedJDSoup))"
      ],
      "execution_count": 8,
      "outputs": [
        {
          "output_type": "stream",
          "text": [
            "\n",
            "\n",
            "Affinity Solutions is the first data-led intelligence platform that uses purchase signals as the authoritative source of truth in helping marketers, agencies and media organizations deliver emotionally resonant experiences that enrich people’s lives.\n",
            "Building on our foundation of innovative solutions for Financial Institutions and Retailers that drive acquisition, share of wallet and loyalty, we’re redefining data driven marketing to make it highly personalized. Our unique approach turns consumer data intelligence into actions, and encourages consumers to opt-in. Our solutions are proven to drive shopping behavior and engagement that unlock brand and market share growth for our clients.\n",
            "Affinity Solutions seeks a smart, curious, and technical savvy candidate to join our cutting-edge Data Science team. We hire the best and brightest and give them the opportunity to work on industry-leading technologies.\n",
            "The Data Science team at AFS build models, machine learning algorithms that power all our ad-tech/mar-tech products at scale, develop methodology and tools to precisely and effectively measure market campaign effects, and research in-house and public data sources for consumer spend behavior insights.\n",
            "In this role, you'll be focusing on the area of consumer/retailer market insights. However, you'll also have the opportunity to come up with new ideas and solutions that will lead to the improvement of our ability to target the right audience, derive insights, and provide better measurement methodology for marketing campaigns.\n",
            "Duties and Responsibilities\n",
            "Support all clients modeling needs, including model development, maintenance and improvement of the company’s current modeling/scoring methodology and processes, and to ensure on time and quality delivery,\n",
            "Provide innovative and automated solutions to customized modeling/scoring/targeting with appropriate ML/statistical tools,\n",
            "Work with the data engineering team on the data platform initiative to enable client building modeling through API.\n",
            "Engage in R&D to explore, test and implement new modeling methods and technology.\n",
            "Mine large consumer datasets in the cloud environment to support ad hoc business and statistical analysis,\n",
            "Provide analytical/statistical support such as marketing test design, projection, campaign measurement, market insights to clients and stakeholders.\n",
            "Communicate the methodologies and the results to the management, clients, and other non-technical stakeholders.\n",
            "\n",
            "Basic Qualifications\n",
            "Advanced degree in Statistics/Mathematics/Computer Science/Economics or other fields that requires advanced training in data modeling and analytics.\n",
            "Deep understanding and solid knowledge of the fundamentals of statistic reasoning and data modeling. Excellent in conceptualization of business problem and be able to craft sound and practical modeling and analytical solutions to solve the problems.\n",
            "Experience in classification, time series and survival modeling/algorithm, and in statistical tests to solve business problems such as targeting, test design, KPI projection and performance measurement.\n",
            "Excellent command of one or more programming languages, preferably Python or R for business data modeling and analytics.\n",
            "Experience and comfortable working in the Cloud environment and familiar with one of the database technologies such as PostgreSQL, MySQL and at ease with SQL queries.\n",
            "Entrepreneurial, highly self-motivated, collaborative, keen attention to detail, willingness and capable learn quickly, and ability to effectively prioritize and execute tasks in a demanding environment.\n",
            "Be flexible and able to be productive in a wide range of data science areas.\n",
            "Great communication skills (verbal, written and presentation)\n",
            "\n",
            "Preferred Qualifications\n",
            "Experience or exposure to large consumer and/or demographic data sets.\n",
            "Familiarity with data manipulation and cleaning routines and techniques.\n"
          ],
          "name": "stdout"
        }
      ]
    },
    {
      "cell_type": "code",
      "metadata": {
        "colab": {
          "base_uri": "https://localhost:8080/",
          "height": 35
        },
        "id": "ExRPuy-ymLlX",
        "outputId": "b8eb115d-3d1c-4c3f-f3de-b254e602746a"
      },
      "source": [
        "def extract_job_poster_and_age_from_result(soup):\n",
        "  jobPosterAndAge = []\n",
        "  for div in soup.find_all(name=\"div\", attrs={\"class\": \"jobsearch-JobMetadataFooter\"}):\n",
        "    for a in div.find_all(name=\"div\"):\n",
        "      jobPosterAndAge.append(a.text.strip())\n",
        "  return \" | \".join([jobPosterAndAge[0], jobPosterAndAge[1]])\n",
        "\n",
        "extract_job_poster_and_age_from_result(indeedJDSoup)"
      ],
      "execution_count": 9,
      "outputs": [
        {
          "output_type": "execute_result",
          "data": {
            "application/vnd.google.colaboratory.intrinsic+json": {
              "type": "string"
            },
            "text/plain": [
              "'Affinity Solutions | 22 days ago'"
            ]
          },
          "metadata": {
            "tags": []
          },
          "execution_count": 9
        }
      ]
    },
    {
      "cell_type": "markdown",
      "metadata": {
        "id": "50hTXTQ3NLfN"
      },
      "source": [
        "### Scrape CB JD\n"
      ]
    },
    {
      "cell_type": "code",
      "metadata": {
        "id": "Xqb3zMQxNOkX"
      },
      "source": [
        "cbJDPage = requests.get(cbURL)\n",
        "cbJDSoup = BeautifulSoup(cbJDPage.text, \"html.parser\")"
      ],
      "execution_count": 10,
      "outputs": []
    },
    {
      "cell_type": "code",
      "metadata": {
        "colab": {
          "base_uri": "https://localhost:8080/",
          "height": 35
        },
        "id": "mpNHazmqqqde",
        "outputId": "8f75096e-6be1-48b3-fc3a-a33246ee22c8"
      },
      "source": [
        "def extract_job_title_from_result(soup):\n",
        "  jobTitles = []\n",
        "  for div in soup.find_all(name=\"div\", attrs={\"class\": \"data-display\"}):\n",
        "    for a in soup.find_all(name=\"h2\", attrs={\"class\": \"h3\"}):\n",
        "      jobTitles.append(a.text.strip())\n",
        "  return jobTitles[0]\n",
        "\n",
        "extract_job_title_from_result(cbJDSoup)"
      ],
      "execution_count": 11,
      "outputs": [
        {
          "output_type": "execute_result",
          "data": {
            "application/vnd.google.colaboratory.intrinsic+json": {
              "type": "string"
            },
            "text/plain": [
              "'Software Developer - Cross train as Salesforce Developer'"
            ]
          },
          "metadata": {
            "tags": []
          },
          "execution_count": 11
        }
      ]
    },
    {
      "cell_type": "code",
      "metadata": {
        "colab": {
          "base_uri": "https://localhost:8080/",
          "height": 35
        },
        "id": "0ryH16F6rnRC",
        "outputId": "6dfd1b77-21fb-4561-c2df-9c70f4e56d78"
      },
      "source": [
        "def extract_job_location_from_result(soup):\n",
        "  jobLocation = []\n",
        "  for div in soup.find_all(name=\"div\", attrs={\"class\": \"data-display\"}):\n",
        "    for a in div.find_all(name=\"div\", attrs={\"class\": \"data-details\"}):\n",
        "      for b in a.find_all(name=\"span\"):\n",
        "        jobLocation.append(b.text.strip())\n",
        "  return \" | \".join(jobLocation)\n",
        "\n",
        "extract_job_location_from_result(cbJDSoup)"
      ],
      "execution_count": 12,
      "outputs": [
        {
          "output_type": "execute_result",
          "data": {
            "application/vnd.google.colaboratory.intrinsic+json": {
              "type": "string"
            },
            "text/plain": [
              "'Revolent | St. Louis | Full-Time'"
            ]
          },
          "metadata": {
            "tags": []
          },
          "execution_count": 12
        }
      ]
    },
    {
      "cell_type": "code",
      "metadata": {
        "colab": {
          "base_uri": "https://localhost:8080/",
          "height": 35
        },
        "id": "XcLMcFK_tluw",
        "outputId": "f357acb4-b8fd-4379-a410-74ad5d8b6717"
      },
      "source": [
        "def extract_company_job_posting_from_result(soup):\n",
        "  companyJobPosting = []\n",
        "  for div in soup.find_all(name=\"div\", attrs={\"class\": \"data-display\"}):\n",
        "    for a in div.find_all(name=\"a\", attrs={\"data-gtm\": \"job-action|apply-internal-top\"}):\n",
        "      companyJobPosting.append(a['href'])\n",
        "  return companyJobPosting[0]\n",
        "\n",
        "extract_company_job_posting_from_result(cbJDSoup)"
      ],
      "execution_count": 13,
      "outputs": [
        {
          "output_type": "execute_result",
          "data": {
            "application/vnd.google.colaboratory.intrinsic+json": {
              "type": "string"
            },
            "text/plain": [
              "'https://www.careerbuilder.com/apply/j3t5dz79g3k8z5bk0x3?notify=true&siteid=cbnsv'"
            ]
          },
          "metadata": {
            "tags": []
          },
          "execution_count": 13
        }
      ]
    },
    {
      "cell_type": "code",
      "metadata": {
        "colab": {
          "base_uri": "https://localhost:8080/"
        },
        "id": "htqGI__2uK-s",
        "outputId": "ca1f8cfd-e1f7-4f0f-ffdf-47142848d17b"
      },
      "source": [
        "def extract_full_jd_from_result(soup):\n",
        "  fullJD = []\n",
        "  fullJDString = \"\"\n",
        "  for div in soup.find_all(name=\"div\", attrs={\"class\": \"jdp-description-details\"}):\n",
        "    for a in soup.find_all(name=\"div\", attrs={\"class\": \"col-mobile-full\"}):\n",
        "      for lines in div.find_all(name=\"div\"):\n",
        "        fullJD.append(lines.text.strip())\n",
        "  cache = list(dict.fromkeys(fullJD))\n",
        "  for i in cache:\n",
        "    if i != \"\" and fullJDString.find(i) < 0 and fullJDString.find(\");\") < 0:\n",
        "      fullJDString = fullJDString + \"\\n\\n\" + i\n",
        "  return fullJDString[:-95]\n",
        "\n",
        "print(extract_full_jd_from_result(cbJDSoup))"
      ],
      "execution_count": 14,
      "outputs": [
        {
          "output_type": "stream",
          "text": [
            "\n",
            "\n",
            "EXAMPLE 1  Become a Salesforce Industries Developer - opportunity to work with a world-leading professional services firm Are you ready for an awesome career in one of the most popular technologies on the market today? We're on the lookout for driven developers to cross-train into Salesforce, the world's fastest-growing CRM. Revolent fills the growing Salesforce skills gap by cross-training people to become Salesforce certified and placing them to work with our clients as Revolent consultants. Salesforce predicts that by 2024 there will be an additional 4.2 million roles available in the Salesforce ecosystem, making Salesforce certified people one of the world's most sought-after professionals! As one of only a few Trailhead Academy Authorized Training Providers in the US, we'll provide you with twelve weeks of paid Salesforce-specific training and certifications. You will then become a Revolent consultant and work with our clients as part of their teams for a minimum 2-year period. After this time, you may transfer to the client permanently or remain with Revolent having gained not just the skills but also the experience needed to kickstart your lucrative career as a Salesforce Developer.Our Salesforce Developer program is available to tech professionals who have experience of at least one full software development lifecycle in a commercial setting and Object-Oriented Programming experience. Salesforce experience is a bonus but not essential as we provide hands-on training from expert Salesforce trainers, along with several certifications.Following training, you will have the opportunity to work with one of the world's leading professional services brands as part of their Salesforce Center of Excellence as a Revolent Salesforce Developer.Day to day your role could include designing, coding, developing, and testing apps, working on websites, integrating Salesforce with other platforms and systems, creating customized Salesforce environments to fit business needs, and much more.Due to COVID-19, all work will initially be done remotely but travel will be required in the future.What we're looking for \n",
            "2 years+ experience in Object-Orientated programming such as Java, C++, C#, Python, R, PHP, Visual Basic.NET, JavaScript, Ruby, Perl, Object Pascal, Objective-C, Dart, Swift, Scala, Kotlin, MATLAB, MS Stack\n",
            "Experience of at least one complete software development lifecycle in a commercial setting\n",
            "Enthusiastic and passionate about starting your career in Salesforce\n",
            "Excellent communication and team-working skills\n",
            "Previous hands-on Salesforce experience is a plus but not mandatory\n",
            "Commitment to a minimum of two years working with us post-training\n",
            "Geographically flexible for placement\n",
            "Experience working within one of the following industries is a plus: \n",
            "Public Sector\n",
            "Communications\n",
            "Media & Entertainment providers\n",
            "Energy and Utilities\n",
            "Insurance\n",
            "Health\n",
            "\n",
            "\n",
            "Availability to start training in April 2021\n",
            " What we offer Alongside a competitive salary we will provide you with:\n",
            "Comprehensive paid Salesforce Developer training\n",
            "Funded Salesforce Platform Developer 1 Certification \n",
            "Funded Salesforce Administration Certification \n",
            "A professional development plan tailored to your career goals \n",
            "Access to mentoring and support programs and networking opportunities\n",
            "Recognition for your achievements as a Revol\n",
            "The opportunity to work with some of the biggest Salesforce customers in the world\n",
            "Comprehensive benefits including; Medical, Dental & Vision, 401K\n",
            "About Revolent:Revolent specializes in creating Salesforce and AWS talent. We recruit, cross-train, place, and develop talent for these ecosystems, fuelling the market with the next generation of certified professionals.We are passionate about tackling the skills shortage and making a career in the cloud more accessible to a wider group of people, helping to create a more diverse workforce, not just for our clients but for the cloud sector overall.Our Revols are the most important part of our business and we invest heavily in their professional development, helping to launch their careers in the cloud. We are also committed to giving back and support a diverse range of causes, all over the world, supporting our Revols to use their Salesforce and AWS skills to help charities who need them the most.We are on an unstoppable journey of growth and are looking for people who want to go beyond with us on what will be an incredibly exciting talent revolution!Find out more about us: [ Link removed ] -  Click here to apply to Software Developer - Cross train as Salesforce Developer #LifeatRevolent\n",
            "*2 years+ experience in Object-Orientated programming such as Java, C++, C#, Python, R, PHP, Visual Basic.NET, JavaScript, Ruby, Perl, Object Pascal, Objective-C, Dart, Swift, Scala, Kotlin, MATLAB, MS Stack\n",
            "\n",
            "Recommended Skills\n",
            "C Sharp (Programming Language)\n",
            "Insurance\n",
            "Matlab\n",
            "C++ (Programming Language)\n",
            "Python (Programming Language)\n",
            "Visual Basic .Net (Programming Language)\n",
            "\n",
            "\n"
          ],
          "name": "stdout"
        }
      ]
    },
    {
      "cell_type": "code",
      "metadata": {
        "colab": {
          "base_uri": "https://localhost:8080/",
          "height": 35
        },
        "id": "8XuCMfIkA-MQ",
        "outputId": "59237f84-399c-459d-ed8e-318b3d69c4ce"
      },
      "source": [
        "def extract_job_salary_from_result(soup):\n",
        "  jobSalaries = []\n",
        "  for div in soup.find_all(name=\"div\", attrs={\"class\": \"data-snapshot\"}):\n",
        "    for a in soup.find_all(name=\"div\", attrs={\"class\": \"block\"}):\n",
        "      jobSalaries.append(a.text.strip())\n",
        "  return jobSalaries[0]\n",
        "\n",
        "extract_job_salary_from_result(cbJDSoup)"
      ],
      "execution_count": 15,
      "outputs": [
        {
          "output_type": "execute_result",
          "data": {
            "application/vnd.google.colaboratory.intrinsic+json": {
              "type": "string"
            },
            "text/plain": [
              "'$55,000.00 - $65,000.00 / year'"
            ]
          },
          "metadata": {
            "tags": []
          },
          "execution_count": 15
        }
      ]
    },
    {
      "cell_type": "code",
      "metadata": {
        "id": "SeCpDY4mwuB2"
      },
      "source": [
        ""
      ],
      "execution_count": 15,
      "outputs": []
    }
  ]
}